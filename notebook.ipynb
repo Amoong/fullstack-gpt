{
 "cells": [
  {
   "cell_type": "code",
   "execution_count": 2,
   "metadata": {},
   "outputs": [
    {
     "name": "stdout",
     "output_type": "stream",
     "text": [
      "\u001b[32;1m\u001b[1;3m[llm/start]\u001b[0m \u001b[1m[1:llm:ChatOpenAI] Entering LLM run with input:\n",
      "\u001b[0m{\n",
      "  \"prompts\": [\n",
      "    \"Human: How do you make italian pasta?\"\n",
      "  ]\n",
      "}\n",
      "\u001b[36;1m\u001b[1;3m[llm/end]\u001b[0m \u001b[1m[1:llm:ChatOpenAI] [24.09s] Exiting LLM run with output:\n",
      "\u001b[0m{\n",
      "  \"generations\": [\n",
      "    [\n",
      "      {\n",
      "        \"text\": \"To make Italian pasta, you will need the following ingredients:\\n\\n- 2 cups of all-purpose flour\\n- 2 large eggs\\n- A pinch of salt\\n- Water (if needed)\\n\\nHere's a step-by-step guide to making Italian pasta:\\n\\n1. On a clean surface or in a large mixing bowl, create a well with the flour. Make sure the well is wide enough to hold the eggs.\\n\\n2. Crack the eggs into the well and add a pinch of salt.\\n\\n3. Using a fork or your fingers, gently beat the eggs and gradually start incorporating the flour from the sides of the well. Continue mixing until the dough starts to come together.\\n\\n4. Once the dough starts to form, use your hands to knead it for about 5-10 minutes until it becomes smooth and elastic. If the dough feels too dry, you can add a little water, one tablespoon at a time, until it reaches the desired consistency. If it's too sticky, add a little flour.\\n\\n5. Once the dough is ready, shape it into a ball and cover it with a clean kitchen towel or plastic wrap. Let it rest for at least 30 minutes at room temperature. This resting period allows the gluten to relax and makes the dough easier to work with.\\n\\n6. After the resting time, divide the dough into smaller portions. Take one portion and flatten it with your hands or a rolling pin until it becomes thin enough to fit through a pasta machine or to roll out with a rolling pin.\\n\\n7. If using a pasta machine, start with the widest setting and pass the dough through it. Fold the dough into thirds and pass it through the machine again. Repeat this process a few times, gradually reducing the thickness setting until you reach the desired thickness for your pasta. If rolling by hand, continue rolling and stretching the dough until it reaches the desired thickness.\\n\\n8. Once the dough is rolled out, you can cut it into your desired pasta shape. For example, you can make fettuccine, tagliatelle, or spaghetti. If using a pasta machine, follow the manufacturer's instructions for cutting the pasta. If cutting by hand, lightly flour the dough, roll it up, and slice it into your desired width.\\n\\n9. After cutting the pasta, you can cook it immediately in a large pot of salted boiling water for about 2-3 minutes or until al dente. Fresh pasta cooks much faster than dried pasta, so keep an eye on it.\\n\\n10. Once cooked, drain the pasta and serve it with your favorite sauce, such as marinara, carbonara, or pesto.\\n\\nEnjoy your homemade Italian pasta!\",\n",
      "        \"generation_info\": {\n",
      "          \"finish_reason\": \"stop\"\n",
      "        },\n",
      "        \"type\": \"ChatGeneration\",\n",
      "        \"message\": {\n",
      "          \"lc\": 1,\n",
      "          \"type\": \"constructor\",\n",
      "          \"id\": [\n",
      "            \"langchain\",\n",
      "            \"schema\",\n",
      "            \"messages\",\n",
      "            \"AIMessage\"\n",
      "          ],\n",
      "          \"kwargs\": {\n",
      "            \"content\": \"To make Italian pasta, you will need the following ingredients:\\n\\n- 2 cups of all-purpose flour\\n- 2 large eggs\\n- A pinch of salt\\n- Water (if needed)\\n\\nHere's a step-by-step guide to making Italian pasta:\\n\\n1. On a clean surface or in a large mixing bowl, create a well with the flour. Make sure the well is wide enough to hold the eggs.\\n\\n2. Crack the eggs into the well and add a pinch of salt.\\n\\n3. Using a fork or your fingers, gently beat the eggs and gradually start incorporating the flour from the sides of the well. Continue mixing until the dough starts to come together.\\n\\n4. Once the dough starts to form, use your hands to knead it for about 5-10 minutes until it becomes smooth and elastic. If the dough feels too dry, you can add a little water, one tablespoon at a time, until it reaches the desired consistency. If it's too sticky, add a little flour.\\n\\n5. Once the dough is ready, shape it into a ball and cover it with a clean kitchen towel or plastic wrap. Let it rest for at least 30 minutes at room temperature. This resting period allows the gluten to relax and makes the dough easier to work with.\\n\\n6. After the resting time, divide the dough into smaller portions. Take one portion and flatten it with your hands or a rolling pin until it becomes thin enough to fit through a pasta machine or to roll out with a rolling pin.\\n\\n7. If using a pasta machine, start with the widest setting and pass the dough through it. Fold the dough into thirds and pass it through the machine again. Repeat this process a few times, gradually reducing the thickness setting until you reach the desired thickness for your pasta. If rolling by hand, continue rolling and stretching the dough until it reaches the desired thickness.\\n\\n8. Once the dough is rolled out, you can cut it into your desired pasta shape. For example, you can make fettuccine, tagliatelle, or spaghetti. If using a pasta machine, follow the manufacturer's instructions for cutting the pasta. If cutting by hand, lightly flour the dough, roll it up, and slice it into your desired width.\\n\\n9. After cutting the pasta, you can cook it immediately in a large pot of salted boiling water for about 2-3 minutes or until al dente. Fresh pasta cooks much faster than dried pasta, so keep an eye on it.\\n\\n10. Once cooked, drain the pasta and serve it with your favorite sauce, such as marinara, carbonara, or pesto.\\n\\nEnjoy your homemade Italian pasta!\",\n",
      "            \"additional_kwargs\": {}\n",
      "          }\n",
      "        }\n",
      "      }\n",
      "    ]\n",
      "  ],\n",
      "  \"llm_output\": {\n",
      "    \"token_usage\": {\n",
      "      \"prompt_tokens\": 14,\n",
      "      \"completion_tokens\": 537,\n",
      "      \"total_tokens\": 551\n",
      "    },\n",
      "    \"model_name\": \"gpt-3.5-turbo\",\n",
      "    \"system_fingerprint\": null\n",
      "  },\n",
      "  \"run\": null\n",
      "}\n"
     ]
    },
    {
     "data": {
      "text/plain": [
       "\"To make Italian pasta, you will need the following ingredients:\\n\\n- 2 cups of all-purpose flour\\n- 2 large eggs\\n- A pinch of salt\\n- Water (if needed)\\n\\nHere's a step-by-step guide to making Italian pasta:\\n\\n1. On a clean surface or in a large mixing bowl, create a well with the flour. Make sure the well is wide enough to hold the eggs.\\n\\n2. Crack the eggs into the well and add a pinch of salt.\\n\\n3. Using a fork or your fingers, gently beat the eggs and gradually start incorporating the flour from the sides of the well. Continue mixing until the dough starts to come together.\\n\\n4. Once the dough starts to form, use your hands to knead it for about 5-10 minutes until it becomes smooth and elastic. If the dough feels too dry, you can add a little water, one tablespoon at a time, until it reaches the desired consistency. If it's too sticky, add a little flour.\\n\\n5. Once the dough is ready, shape it into a ball and cover it with a clean kitchen towel or plastic wrap. Let it rest for at least 30 minutes at room temperature. This resting period allows the gluten to relax and makes the dough easier to work with.\\n\\n6. After the resting time, divide the dough into smaller portions. Take one portion and flatten it with your hands or a rolling pin until it becomes thin enough to fit through a pasta machine or to roll out with a rolling pin.\\n\\n7. If using a pasta machine, start with the widest setting and pass the dough through it. Fold the dough into thirds and pass it through the machine again. Repeat this process a few times, gradually reducing the thickness setting until you reach the desired thickness for your pasta. If rolling by hand, continue rolling and stretching the dough until it reaches the desired thickness.\\n\\n8. Once the dough is rolled out, you can cut it into your desired pasta shape. For example, you can make fettuccine, tagliatelle, or spaghetti. If using a pasta machine, follow the manufacturer's instructions for cutting the pasta. If cutting by hand, lightly flour the dough, roll it up, and slice it into your desired width.\\n\\n9. After cutting the pasta, you can cook it immediately in a large pot of salted boiling water for about 2-3 minutes or until al dente. Fresh pasta cooks much faster than dried pasta, so keep an eye on it.\\n\\n10. Once cooked, drain the pasta and serve it with your favorite sauce, such as marinara, carbonara, or pesto.\\n\\nEnjoy your homemade Italian pasta!\""
      ]
     },
     "execution_count": 2,
     "metadata": {},
     "output_type": "execute_result"
    }
   ],
   "source": [
    "from langchain.chat_models import ChatOpenAI\n",
    "from langchain.callbacks import StreamingStdOutCallbackHandler\n",
    "from langchain.globals import set_llm_cache, set_debug\n",
    "from langchain.cache import InMemoryCache, SQLiteCache\n",
    "\n",
    "set_llm_cache(InMemoryCache())\n",
    "set_llm_cache(SQLiteCache(\"cache.db\"))\n",
    "\n",
    "\n",
    "chat = ChatOpenAI(\n",
    "    temperature=0.1,\n",
    "    # streaming=True,\n",
    "    # callbacks=[StreamingStdOutCallbackHandler()]\n",
    ")\n",
    "\n",
    "chat.predict(\"How do you make italian pasta?\")"
   ]
  },
  {
   "cell_type": "code",
   "execution_count": null,
   "metadata": {},
   "outputs": [],
   "source": [
    "chat.predict(\"How do you make italian pasta?\")"
   ]
  }
 ],
 "metadata": {
  "kernelspec": {
   "display_name": "env",
   "language": "python",
   "name": "python3"
  },
  "language_info": {
   "codemirror_mode": {
    "name": "ipython",
    "version": 3
   },
   "file_extension": ".py",
   "mimetype": "text/x-python",
   "name": "python",
   "nbconvert_exporter": "python",
   "pygments_lexer": "ipython3",
   "version": "3.11.6"
  }
 },
 "nbformat": 4,
 "nbformat_minor": 2
}
